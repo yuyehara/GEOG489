{
 "cells": [
  {
   "cell_type": "markdown",
   "metadata": {
    "nbpresent": {
     "id": "9f0504d3-8fe6-4fb8-83ca-4b75b45e32e2"
    },
    "slideshow": {
     "slide_type": "slide"
    }
   },
   "source": [
    "# Python Scripting in ArcGIS\n",
    "* ### Other than ArcMap/ArcCatalog, ModelBuilder, another interface to conduct geoprocessing\n",
    "* ### Not visual - but support more logical expressions, data types\n",
    "* ### Highly customizable - you can combine your program and ArcGIS built-in processing tools\n",
    "* ### Object-Oriented Language - you can create your own objects and define new functions \n",
    "* ### Not free nor open-source - you need an ArcGIS license to run the file"
   ]
  },
  {
   "cell_type": "markdown",
   "metadata": {
    "nbpresent": {
     "id": "55bf00dc-0dbc-445e-a3ea-dc0e5ce2b073"
    },
    "slideshow": {
     "slide_type": "slide"
    }
   },
   "source": [
    "# 1. Import arcpy\n",
    "### so that you can use all functions built-in the module"
   ]
  },
  {
   "cell_type": "code",
   "execution_count": 15,
   "metadata": {
    "collapsed": true,
    "nbpresent": {
     "id": "83564b0e-4631-4c08-b104-4ab4128ed021"
    },
    "slideshow": {
     "slide_type": "slide"
    }
   },
   "outputs": [],
   "source": [
    "import arcpy"
   ]
  },
  {
   "cell_type": "markdown",
   "metadata": {},
   "source": [
    "##    2. Set Environments (Set default values for your program)\n",
    "### Set current workspace:"
   ]
  },
  {
   "cell_type": "raw",
   "metadata": {},
   "source": [
    "arcpy.env.workspace = \"C:\\Student\""
   ]
  },
  {
   "cell_type": "raw",
   "metadata": {},
   "source": [
    "print(arcpy.env.workspace)"
   ]
  },
  {
   "cell_type": "markdown",
   "metadata": {},
   "source": [
    "### set the default cellsize"
   ]
  },
  {
   "cell_type": "raw",
   "metadata": {},
   "source": [
    "arcpy.env.cellsize = 10"
   ]
  },
  {
   "cell_type": "raw",
   "metadata": {},
   "source": [
    "print(arcpy.env.workspace)"
   ]
  },
  {
   "cell_type": "markdown",
   "metadata": {},
   "source": [
    "### Overwrite the output or not"
   ]
  },
  {
   "cell_type": "raw",
   "metadata": {},
   "source": [
    "print (arcpy.env.overwriteOutput)"
   ]
  },
  {
   "cell_type": "raw",
   "metadata": {},
   "source": [
    "arcpy.env.overwriteOutput = True"
   ]
  },
  {
   "cell_type": "raw",
   "metadata": {},
   "source": [
    "print (arcpy.env.overwriteOutput)"
   ]
  },
  {
   "cell_type": "markdown",
   "metadata": {},
   "source": [
    "### Describe the properties of your data"
   ]
  },
  {
   "cell_type": "code",
   "execution_count": 34,
   "metadata": {
    "collapsed": false
   },
   "outputs": [],
   "source": [
    "desc = arcpy.Describe(\"C:\\Student\\BldgModels10_0\\FtCollins.gdb\\CityLimits\")"
   ]
  },
  {
   "cell_type": "code",
   "execution_count": 40,
   "metadata": {
    "collapsed": false
   },
   "outputs": [
    {
     "name": "stdout",
     "output_type": "stream",
     "text": [
      "<geoprocessing describe data object object at 0x03596F08>\n"
     ]
    }
   ],
   "source": [
    "print(desc)"
   ]
  },
  {
   "cell_type": "raw",
   "metadata": {},
   "source": [
    "print(type(desc))"
   ]
  },
  {
   "cell_type": "code",
   "execution_count": 45,
   "metadata": {
    "collapsed": false
   },
   "outputs": [
    {
     "name": "stdout",
     "output_type": "stream",
     "text": [
      "Polygon\n"
     ]
    }
   ],
   "source": [
    "print desc.shapeType"
   ]
  },
  {
   "cell_type": "code",
   "execution_count": 44,
   "metadata": {
    "collapsed": false
   },
   "outputs": [
    {
     "name": "stdout",
     "output_type": "stream",
     "text": [
      "NAD_1983_StatePlane_Colorado_North_FIPS_0501\n"
     ]
    }
   ],
   "source": [
    "print desc.spatialReference.Name"
   ]
  },
  {
   "cell_type": "code",
   "execution_count": null,
   "metadata": {
    "collapsed": true
   },
   "outputs": [],
   "source": []
  }
 ],
 "metadata": {
  "anaconda-cloud": {},
  "kernelspec": {
   "display_name": "Python [default]",
   "language": "python",
   "name": "python2"
  },
  "language_info": {
   "codemirror_mode": {
    "name": "ipython",
    "version": 2
   },
   "file_extension": ".py",
   "mimetype": "text/x-python",
   "name": "python",
   "nbconvert_exporter": "python",
   "pygments_lexer": "ipython2",
   "version": "2.7.12"
  },
  "nbpresent": {
   "slides": {
    "3c7f56bd-d34d-42f9-b8d4-9f06cb622752": {
     "id": "3c7f56bd-d34d-42f9-b8d4-9f06cb622752",
     "prev": "fd73dee0-84c5-4b89-9f71-447bfcadc918",
     "regions": {
      "92b1aeda-1678-463a-9ce0-ee062603d7d6": {
       "attrs": {
        "height": 0.8,
        "width": 0.8,
        "x": 0.1,
        "y": 0.1
       },
       "content": {
        "cell": "9cfbfe9a-6bc9-45d0-b898-138c44395926",
        "part": "whole"
       },
       "id": "92b1aeda-1678-463a-9ce0-ee062603d7d6"
      }
     }
    },
    "620a1d0b-09b2-49b9-85b8-6b2614659955": {
     "id": "620a1d0b-09b2-49b9-85b8-6b2614659955",
     "prev": "f63ddeae-7ee5-459c-8c9f-67eeaaf3ed16",
     "regions": {
      "08b8d197-7453-44c5-bd76-747aade20972": {
       "attrs": {
        "height": 0.8,
        "width": 0.8,
        "x": 0.1,
        "y": 0.1
       },
       "content": {
        "cell": "73f0bd38-f7ff-4a3b-b16a-e4f8550f65e6",
        "part": "whole"
       },
       "id": "08b8d197-7453-44c5-bd76-747aade20972"
      }
     }
    },
    "a5146b7d-0043-4db3-a3c9-6ebafa538f79": {
     "id": "a5146b7d-0043-4db3-a3c9-6ebafa538f79",
     "layout": "treemap",
     "prev": null,
     "regions": {
      "29f59d32-a8ed-45bd-94bf-5a8f55c8d7a3": {
       "attrs": {
        "height": 1,
        "pad": 0.01,
        "treemap:weight": 1,
        "width": 1,
        "x": 0,
        "y": 0
       },
       "content": {
        "cell": "9f0504d3-8fe6-4fb8-83ca-4b75b45e32e2",
        "part": "source"
       },
       "id": "29f59d32-a8ed-45bd-94bf-5a8f55c8d7a3"
      }
     }
    },
    "a7393fa4-2f75-4d07-b80b-3c3c758d88bc": {
     "id": "a7393fa4-2f75-4d07-b80b-3c3c758d88bc",
     "prev": "dc61a973-eac4-4bdc-8b84-da00f5526850",
     "regions": {
      "66eff56f-9092-422a-8cb1-80492da2771b": {
       "attrs": {
        "height": 0.8,
        "width": 0.8,
        "x": 0.1,
        "y": 0.1
       },
       "content": {
        "cell": "77987871-6c6a-4fb3-b9e8-41b0b5ea4536",
        "part": "whole"
       },
       "id": "66eff56f-9092-422a-8cb1-80492da2771b"
      }
     }
    },
    "dc61a973-eac4-4bdc-8b84-da00f5526850": {
     "id": "dc61a973-eac4-4bdc-8b84-da00f5526850",
     "prev": "3c7f56bd-d34d-42f9-b8d4-9f06cb622752",
     "regions": {
      "82c1de44-29f6-43f7-b1ce-6350b9bb8b92": {
       "attrs": {
        "height": 0.8,
        "width": 0.8,
        "x": 0.1,
        "y": 0.1
       },
       "content": {
        "cell": "db681283-4b94-424a-855f-6634bd6983ac",
        "part": "whole"
       },
       "id": "82c1de44-29f6-43f7-b1ce-6350b9bb8b92"
      }
     }
    },
    "f63ddeae-7ee5-459c-8c9f-67eeaaf3ed16": {
     "id": "f63ddeae-7ee5-459c-8c9f-67eeaaf3ed16",
     "prev": "a7393fa4-2f75-4d07-b80b-3c3c758d88bc",
     "regions": {
      "d34b6fb5-f530-446f-9524-1c70a922ff45": {
       "attrs": {
        "height": 0.8,
        "width": 0.8,
        "x": 0.1,
        "y": 0.1
       },
       "content": {
        "cell": "f449429a-99c7-422d-99b3-983a53f1e980",
        "part": "whole"
       },
       "id": "d34b6fb5-f530-446f-9524-1c70a922ff45"
      }
     }
    },
    "f8c1a74d-31d3-4345-adf8-4c86f633c82b": {
     "id": "f8c1a74d-31d3-4345-adf8-4c86f633c82b",
     "layout": "manual",
     "prev": "a5146b7d-0043-4db3-a3c9-6ebafa538f79",
     "regions": {
      "5691fad5-0712-4262-9089-6571ab17bd2e": {
       "attrs": {
        "height": 0.8,
        "width": 0.8,
        "x": 0.1,
        "y": 0.1
       },
       "content": {
        "cell": "83564b0e-4631-4c08-b104-4ab4128ed021",
        "part": "source"
       },
       "id": "5691fad5-0712-4262-9089-6571ab17bd2e"
      },
      "cdd3b534-43a5-4d29-9e58-d95d790a9aee": {
       "attrs": {
        "height": 1,
        "pad": 0.01,
        "treemap:weight": 1,
        "width": 1,
        "x": 0,
        "y": 0
       },
       "content": {
        "cell": "83564b0e-4631-4c08-b104-4ab4128ed021",
        "part": "source"
       },
       "id": "cdd3b534-43a5-4d29-9e58-d95d790a9aee"
      }
     }
    },
    "fd73dee0-84c5-4b89-9f71-447bfcadc918": {
     "id": "fd73dee0-84c5-4b89-9f71-447bfcadc918",
     "prev": "f8c1a74d-31d3-4345-adf8-4c86f633c82b",
     "regions": {
      "5dc0ad86-2190-4ecb-8ef4-395144e83849": {
       "attrs": {
        "height": 0.8,
        "width": 0.8,
        "x": 0.1,
        "y": 0.1
       },
       "content": {
        "cell": "1bf3681d-0c49-4e39-89c9-9a90c9a5eaa6",
        "part": "whole"
       },
       "id": "5dc0ad86-2190-4ecb-8ef4-395144e83849"
      }
     }
    }
   },
   "themes": {
    "default": "fbd8bfa3-f3fc-4765-8415-ab436b2b4376",
    "theme": {
     "fbd8bfa3-f3fc-4765-8415-ab436b2b4376": {
      "id": "fbd8bfa3-f3fc-4765-8415-ab436b2b4376",
      "palette": {
       "19cc588f-0593-49c9-9f4b-e4d7cc113b1c": {
        "id": "19cc588f-0593-49c9-9f4b-e4d7cc113b1c",
        "rgb": [
         252,
         252,
         252
        ]
       },
       "31af15d2-7e15-44c5-ab5e-e04b16a89eff": {
        "id": "31af15d2-7e15-44c5-ab5e-e04b16a89eff",
        "rgb": [
         68,
         68,
         68
        ]
       },
       "50f92c45-a630-455b-aec3-788680ec7410": {
        "id": "50f92c45-a630-455b-aec3-788680ec7410",
        "rgb": [
         155,
         177,
         192
        ]
       },
       "c5cc3653-2ee1-402a-aba2-7caae1da4f6c": {
        "id": "c5cc3653-2ee1-402a-aba2-7caae1da4f6c",
        "rgb": [
         43,
         126,
         184
        ]
       },
       "efa7f048-9acb-414c-8b04-a26811511a21": {
        "id": "efa7f048-9acb-414c-8b04-a26811511a21",
        "rgb": [
         25.118061674008803,
         73.60176211453744,
         107.4819383259912
        ]
       }
      },
      "rules": {
       "blockquote": {
        "color": "50f92c45-a630-455b-aec3-788680ec7410"
       },
       "code": {
        "font-family": "Anonymous Pro"
       },
       "h1": {
        "color": "c5cc3653-2ee1-402a-aba2-7caae1da4f6c",
        "font-family": "Lato",
        "font-size": 8
       },
       "h2": {
        "color": "c5cc3653-2ee1-402a-aba2-7caae1da4f6c",
        "font-family": "Lato",
        "font-size": 6
       },
       "h3": {
        "color": "50f92c45-a630-455b-aec3-788680ec7410",
        "font-family": "Lato",
        "font-size": 5.5
       },
       "h4": {
        "color": "c5cc3653-2ee1-402a-aba2-7caae1da4f6c",
        "font-family": "Lato",
        "font-size": 5
       },
       "h5": {
        "font-family": "Lato"
       },
       "h6": {
        "font-family": "Lato"
       },
       "h7": {
        "font-family": "Lato"
       },
       "pre": {
        "font-family": "Anonymous Pro",
        "font-size": 4
       }
      },
      "text-base": {
       "font-family": "Merriweather",
       "font-size": 4
      }
     }
    }
   }
  }
 },
 "nbformat": 4,
 "nbformat_minor": 1
}
