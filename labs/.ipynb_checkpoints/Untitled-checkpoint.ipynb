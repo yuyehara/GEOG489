{
 "cells": [
  {
   "cell_type": "markdown",
   "metadata": {
    "nbpresent": {
     "id": "aa602256-86f2-4742-8faa-8a80d018ed0b"
    }
   },
   "source": [
    "# Python Scripting in ArcGIS\n",
    "* Other than ArcMap/ArcCatalog, ModelBuilder, another interface to conduct geoprocessing\n",
    "* Not visual - but support more logical expressions, data types\n",
    "* Highly customizable - you can combine your program and ArcGIS built-in processing tools\n",
    "* Object-Oriented Language - you can create your own objects and define new functions \n",
    "* Not free nor open-source - you need an ArcGIS license to run the file"
   ]
  },
  {
   "cell_type": "markdown",
   "metadata": {
    "collapsed": false,
    "scrolled": true
   },
   "source": [
    "###### import arcpy"
   ]
  },
  {
   "cell_type": "code",
   "execution_count": null,
   "metadata": {
    "collapsed": false,
    "nbpresent": {
     "id": "40898a85-855a-405d-92ec-7430c1b8ca51"
    }
   },
   "outputs": [],
   "source": [
    "arcpy.env.cellSize=10"
   ]
  },
  {
   "cell_type": "code",
   "execution_count": 9,
   "metadata": {
    "collapsed": false,
    "nbpresent": {
     "id": "1bf3681d-0c49-4e39-89c9-9a90c9a5eaa6"
    }
   },
   "outputs": [
    {
     "name": "stdout",
     "output_type": "stream",
     "text": [
      "None\n"
     ]
    }
   ],
   "source": [
    "print(arcpy.env.workspace)"
   ]
  },
  {
   "cell_type": "code",
   "execution_count": 1,
   "metadata": {
    "collapsed": false,
    "nbpresent": {
     "id": "9cfbfe9a-6bc9-45d0-b898-138c44395926"
    }
   },
   "outputs": [
    {
     "ename": "NameError",
     "evalue": "name 'python' is not defined",
     "output_type": "error",
     "traceback": [
      "\u001b[0;31m---------------------------------------------------------------------------\u001b[0m",
      "\u001b[0;31mNameError\u001b[0m                                 Traceback (most recent call last)",
      "\u001b[0;32m<ipython-input-1-4da7a66db466>\u001b[0m in \u001b[0;36m<module>\u001b[0;34m()\u001b[0m\n\u001b[0;32m----> 1\u001b[0;31m \u001b[0mpython\u001b[0m \u001b[1;33m-\u001b[0m\u001b[1;33m-\u001b[0m\u001b[0mversion\u001b[0m\u001b[1;33m\u001b[0m\u001b[0m\n\u001b[0m",
      "\u001b[0;31mNameError\u001b[0m: name 'python' is not defined"
     ]
    }
   ],
   "source": []
  },
  {
   "cell_type": "code",
   "execution_count": 2,
   "metadata": {
    "collapsed": false,
    "nbpresent": {
     "id": "db681283-4b94-424a-855f-6634bd6983ac"
    }
   },
   "outputs": [
    {
     "ename": "NameError",
     "evalue": "name 'python' is not defined",
     "output_type": "error",
     "traceback": [
      "\u001b[0;31m---------------------------------------------------------------------------\u001b[0m",
      "\u001b[0;31mNameError\u001b[0m                                 Traceback (most recent call last)",
      "\u001b[0;32m<ipython-input-2-0fbcea5ac672>\u001b[0m in \u001b[0;36m<module>\u001b[0;34m()\u001b[0m\n\u001b[0;32m----> 1\u001b[0;31m \u001b[0mpython\u001b[0m \u001b[1;33m-\u001b[0m\u001b[0mV\u001b[0m\u001b[1;33m\u001b[0m\u001b[0m\n\u001b[0m",
      "\u001b[0;31mNameError\u001b[0m: name 'python' is not defined"
     ]
    }
   ],
   "source": []
  },
  {
   "cell_type": "code",
   "execution_count": 3,
   "metadata": {
    "collapsed": true,
    "nbpresent": {
     "id": "77987871-6c6a-4fb3-b9e8-41b0b5ea4536"
    }
   },
   "outputs": [],
   "source": [
    "import platform"
   ]
  },
  {
   "cell_type": "code",
   "execution_count": 4,
   "metadata": {
    "collapsed": false,
    "nbpresent": {
     "id": "f449429a-99c7-422d-99b3-983a53f1e980"
    }
   },
   "outputs": [
    {
     "data": {
      "text/plain": [
       "'2.7.13'"
      ]
     },
     "execution_count": 4,
     "metadata": {},
     "output_type": "execute_result"
    }
   ],
   "source": [
    "platform.python_version()"
   ]
  },
  {
   "cell_type": "code",
   "execution_count": null,
   "metadata": {
    "collapsed": true,
    "nbpresent": {
     "id": "73f0bd38-f7ff-4a3b-b16a-e4f8550f65e6"
    }
   },
   "outputs": [],
   "source": []
  }
 ],
 "metadata": {
  "anaconda-cloud": {},
  "kernelspec": {
   "display_name": "Python [default]",
   "language": "python",
   "name": "python2"
  },
  "language_info": {
   "codemirror_mode": {
    "name": "ipython",
    "version": 2
   },
   "file_extension": ".py",
   "mimetype": "text/x-python",
   "name": "python",
   "nbconvert_exporter": "python",
   "pygments_lexer": "ipython2",
   "version": "2.7.12"
  },
  "nbpresent": {
   "slides": {
    "3c7f56bd-d34d-42f9-b8d4-9f06cb622752": {
     "id": "3c7f56bd-d34d-42f9-b8d4-9f06cb622752",
     "prev": "fd73dee0-84c5-4b89-9f71-447bfcadc918",
     "regions": {
      "92b1aeda-1678-463a-9ce0-ee062603d7d6": {
       "attrs": {
        "height": 0.8,
        "width": 0.8,
        "x": 0.1,
        "y": 0.1
       },
       "content": {
        "cell": "9cfbfe9a-6bc9-45d0-b898-138c44395926",
        "part": "whole"
       },
       "id": "92b1aeda-1678-463a-9ce0-ee062603d7d6"
      }
     }
    },
    "5633d096-34eb-4a16-aef5-7cddc28325f9": {
     "id": "5633d096-34eb-4a16-aef5-7cddc28325f9",
     "layout": "manual",
     "prev": null,
     "regions": {
      "2714dfb1-7053-4359-9667-a9f9dca66f87": {
       "attrs": {
        "height": 0.8,
        "width": 0.8,
        "x": 0.1,
        "y": 0.1
       },
       "content": {
        "cell": "aa602256-86f2-4742-8faa-8a80d018ed0b",
        "part": "whole"
       },
       "id": "2714dfb1-7053-4359-9667-a9f9dca66f87"
      }
     },
     "theme": "37996d97-99bd-4d22-a585-61e3121a1a83"
    },
    "620a1d0b-09b2-49b9-85b8-6b2614659955": {
     "id": "620a1d0b-09b2-49b9-85b8-6b2614659955",
     "prev": "f63ddeae-7ee5-459c-8c9f-67eeaaf3ed16",
     "regions": {
      "08b8d197-7453-44c5-bd76-747aade20972": {
       "attrs": {
        "height": 0.8,
        "width": 0.8,
        "x": 0.1,
        "y": 0.1
       },
       "content": {
        "cell": "73f0bd38-f7ff-4a3b-b16a-e4f8550f65e6",
        "part": "whole"
       },
       "id": "08b8d197-7453-44c5-bd76-747aade20972"
      }
     }
    },
    "a5146b7d-0043-4db3-a3c9-6ebafa538f79": {
     "id": "a5146b7d-0043-4db3-a3c9-6ebafa538f79",
     "prev": "5633d096-34eb-4a16-aef5-7cddc28325f9",
     "regions": {
      "7d2a69bb-6726-4b6d-9e4c-4407cb72cea7": {
       "attrs": {
        "height": 0.8,
        "width": 0.8,
        "x": 0.1,
        "y": 0.1
       },
       "content": {
        "cell": "40d8924a-1ddb-4577-9ba1-0ed51e818446",
        "part": "whole"
       },
       "id": "7d2a69bb-6726-4b6d-9e4c-4407cb72cea7"
      }
     }
    },
    "a7393fa4-2f75-4d07-b80b-3c3c758d88bc": {
     "id": "a7393fa4-2f75-4d07-b80b-3c3c758d88bc",
     "prev": "dc61a973-eac4-4bdc-8b84-da00f5526850",
     "regions": {
      "66eff56f-9092-422a-8cb1-80492da2771b": {
       "attrs": {
        "height": 0.8,
        "width": 0.8,
        "x": 0.1,
        "y": 0.1
       },
       "content": {
        "cell": "77987871-6c6a-4fb3-b9e8-41b0b5ea4536",
        "part": "whole"
       },
       "id": "66eff56f-9092-422a-8cb1-80492da2771b"
      }
     }
    },
    "dc61a973-eac4-4bdc-8b84-da00f5526850": {
     "id": "dc61a973-eac4-4bdc-8b84-da00f5526850",
     "prev": "3c7f56bd-d34d-42f9-b8d4-9f06cb622752",
     "regions": {
      "82c1de44-29f6-43f7-b1ce-6350b9bb8b92": {
       "attrs": {
        "height": 0.8,
        "width": 0.8,
        "x": 0.1,
        "y": 0.1
       },
       "content": {
        "cell": "db681283-4b94-424a-855f-6634bd6983ac",
        "part": "whole"
       },
       "id": "82c1de44-29f6-43f7-b1ce-6350b9bb8b92"
      }
     }
    },
    "f63ddeae-7ee5-459c-8c9f-67eeaaf3ed16": {
     "id": "f63ddeae-7ee5-459c-8c9f-67eeaaf3ed16",
     "prev": "a7393fa4-2f75-4d07-b80b-3c3c758d88bc",
     "regions": {
      "d34b6fb5-f530-446f-9524-1c70a922ff45": {
       "attrs": {
        "height": 0.8,
        "width": 0.8,
        "x": 0.1,
        "y": 0.1
       },
       "content": {
        "cell": "f449429a-99c7-422d-99b3-983a53f1e980",
        "part": "whole"
       },
       "id": "d34b6fb5-f530-446f-9524-1c70a922ff45"
      }
     }
    },
    "f8c1a74d-31d3-4345-adf8-4c86f633c82b": {
     "id": "f8c1a74d-31d3-4345-adf8-4c86f633c82b",
     "prev": "a5146b7d-0043-4db3-a3c9-6ebafa538f79",
     "regions": {
      "157862e1-503b-4610-aa05-a93e1d258cd1": {
       "attrs": {
        "height": 0.8,
        "width": 0.8,
        "x": 0.1,
        "y": 0.1
       },
       "content": {
        "cell": "40898a85-855a-405d-92ec-7430c1b8ca51",
        "part": "whole"
       },
       "id": "157862e1-503b-4610-aa05-a93e1d258cd1"
      }
     }
    },
    "fd73dee0-84c5-4b89-9f71-447bfcadc918": {
     "id": "fd73dee0-84c5-4b89-9f71-447bfcadc918",
     "prev": "f8c1a74d-31d3-4345-adf8-4c86f633c82b",
     "regions": {
      "5dc0ad86-2190-4ecb-8ef4-395144e83849": {
       "attrs": {
        "height": 0.8,
        "width": 0.8,
        "x": 0.1,
        "y": 0.1
       },
       "content": {
        "cell": "1bf3681d-0c49-4e39-89c9-9a90c9a5eaa6",
        "part": "whole"
       },
       "id": "5dc0ad86-2190-4ecb-8ef4-395144e83849"
      }
     }
    }
   },
   "themes": {
    "default": "d616d3d7-e9ee-449b-9270-bd955fa3f0eb",
    "theme": {
     "d616d3d7-e9ee-449b-9270-bd955fa3f0eb": {
      "id": "d616d3d7-e9ee-449b-9270-bd955fa3f0eb",
      "palette": {
       "19cc588f-0593-49c9-9f4b-e4d7cc113b1c": {
        "id": "19cc588f-0593-49c9-9f4b-e4d7cc113b1c",
        "rgb": [
         252,
         252,
         252
        ]
       },
       "31af15d2-7e15-44c5-ab5e-e04b16a89eff": {
        "id": "31af15d2-7e15-44c5-ab5e-e04b16a89eff",
        "rgb": [
         68,
         68,
         68
        ]
       },
       "50f92c45-a630-455b-aec3-788680ec7410": {
        "id": "50f92c45-a630-455b-aec3-788680ec7410",
        "rgb": [
         155,
         177,
         192
        ]
       },
       "c5cc3653-2ee1-402a-aba2-7caae1da4f6c": {
        "id": "c5cc3653-2ee1-402a-aba2-7caae1da4f6c",
        "rgb": [
         43,
         126,
         184
        ]
       },
       "efa7f048-9acb-414c-8b04-a26811511a21": {
        "id": "efa7f048-9acb-414c-8b04-a26811511a21",
        "rgb": [
         25.118061674008803,
         73.60176211453744,
         107.4819383259912
        ]
       }
      },
      "rules": {
       "blockquote": {
        "color": "50f92c45-a630-455b-aec3-788680ec7410"
       },
       "code": {
        "font-family": "Anonymous Pro"
       },
       "h1": {
        "color": "c5cc3653-2ee1-402a-aba2-7caae1da4f6c",
        "font-family": "Lato",
        "font-size": 8
       },
       "h2": {
        "color": "c5cc3653-2ee1-402a-aba2-7caae1da4f6c",
        "font-family": "Lato",
        "font-size": 6
       },
       "h3": {
        "color": "50f92c45-a630-455b-aec3-788680ec7410",
        "font-family": "Lato",
        "font-size": 5.5
       },
       "h4": {
        "color": "c5cc3653-2ee1-402a-aba2-7caae1da4f6c",
        "font-family": "Lato",
        "font-size": 5
       },
       "h5": {
        "font-family": "Lato"
       },
       "h6": {
        "font-family": "Lato"
       },
       "h7": {
        "font-family": "Lato"
       },
       "pre": {
        "font-family": "Anonymous Pro",
        "font-size": 4
       }
      },
      "text-base": {
       "font-family": "Merriweather",
       "font-size": 4
      }
     }
    }
   }
  }
 },
 "nbformat": 4,
 "nbformat_minor": 1
}
