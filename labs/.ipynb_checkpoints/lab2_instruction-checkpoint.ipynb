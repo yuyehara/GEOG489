{
 "cells": [
  {
   "cell_type": "markdown",
   "metadata": {
    "nbpresent": {
     "id": "fa7f65ee-f09b-4916-8dd9-e93a852dfab9"
    }
   },
   "source": [
    "# 1. Basics of Python\n",
    "## 1.1 Numbers\n",
    "#### Expression syntax is straightforward: e.g. +, -, * and /\n"
   ]
  },
  {
   "cell_type": "code",
   "execution_count": null,
   "metadata": {
    "collapsed": true,
    "nbpresent": {
     "id": "f66e403d-0809-4bd8-84e5-5937fb653241"
    }
   },
   "outputs": [],
   "source": [
    "2 + 2"
   ]
  },
  {
   "cell_type": "code",
   "execution_count": null,
   "metadata": {
    "collapsed": true
   },
   "outputs": [],
   "source": [
    "5+6/3 # * / are of higher precedence than + -"
   ]
  },
  {
   "cell_type": "code",
   "execution_count": null,
   "metadata": {
    "collapsed": true
   },
   "outputs": [],
   "source": [
    "(50-5*6)/4 # use parenthesis to specify the precedence of operators, but not square/curly bracket"
   ]
  },
  {
   "cell_type": "markdown",
   "metadata": {},
   "source": [
    "#### Other expressions"
   ]
  },
  {
   "cell_type": "code",
   "execution_count": null,
   "metadata": {
    "collapsed": true
   },
   "outputs": [],
   "source": [
    "17 // 3  # floor division discards the fractional part"
   ]
  },
  {
   "cell_type": "code",
   "execution_count": null,
   "metadata": {
    "collapsed": true
   },
   "outputs": [],
   "source": [
    "5**2 #power"
   ]
  },
  {
   "cell_type": "markdown",
   "metadata": {},
   "source": [
    "#### Assign values"
   ]
  },
  {
   "cell_type": "code",
   "execution_count": 20,
   "metadata": {
    "collapsed": true
   },
   "outputs": [],
   "source": [
    "width = 20\n",
    "height = 5*8"
   ]
  },
  {
   "cell_type": "code",
   "execution_count": null,
   "metadata": {
    "collapsed": true
   },
   "outputs": [],
   "source": [
    "height\n",
    "height*width"
   ]
  },
  {
   "cell_type": "code",
   "execution_count": null,
   "metadata": {
    "collapsed": true
   },
   "outputs": [],
   "source": [
    "width2 = width\n",
    "width2"
   ]
  },
  {
   "cell_type": "code",
   "execution_count": null,
   "metadata": {
    "collapsed": true
   },
   "outputs": [],
   "source": [
    "width = 30\n",
    "width2 # Why?"
   ]
  },
  {
   "cell_type": "markdown",
   "metadata": {},
   "source": [
    "## 1.2 Strings"
   ]
  },
  {
   "cell_type": "markdown",
   "metadata": {},
   "source": [
    "#### Strings can be enclosed in single quotes ('...') or double quotes (\"...\") with the same result"
   ]
  },
  {
   "cell_type": "code",
   "execution_count": 73,
   "metadata": {
    "collapsed": true
   },
   "outputs": [],
   "source": [
    "# Declare 3 variables\n",
    "a = 'Hello'\n",
    "b = \"World\"\n",
    "c = 3"
   ]
  },
  {
   "cell_type": "markdown",
   "metadata": {},
   "source": [
    "#### Strings can be concatenated by '+'"
   ]
  },
  {
   "cell_type": "code",
   "execution_count": null,
   "metadata": {
    "collapsed": true
   },
   "outputs": [],
   "source": [
    "a + b"
   ]
  },
  {
   "cell_type": "code",
   "execution_count": null,
   "metadata": {
    "collapsed": true
   },
   "outputs": [],
   "source": [
    "a + c"
   ]
  },
  {
   "cell_type": "markdown",
   "metadata": {},
   "source": [
    "#### Strings and numbers cannot be directly concatenated. You may need to convert number into string"
   ]
  },
  {
   "cell_type": "code",
   "execution_count": null,
   "metadata": {
    "collapsed": true
   },
   "outputs": [],
   "source": [
    "a + str(c)"
   ]
  },
  {
   "cell_type": "markdown",
   "metadata": {},
   "source": [
    "#### Strings are essentially lists of letters/symbols"
   ]
  },
  {
   "cell_type": "code",
   "execution_count": null,
   "metadata": {
    "collapsed": true
   },
   "outputs": [],
   "source": [
    "a[3]"
   ]
  },
  {
   "cell_type": "code",
   "execution_count": null,
   "metadata": {
    "collapsed": true
   },
   "outputs": [],
   "source": [
    "a[-1]"
   ]
  },
  {
   "cell_type": "code",
   "execution_count": null,
   "metadata": {
    "collapsed": true
   },
   "outputs": [],
   "source": [
    "a[1:4]"
   ]
  },
  {
   "cell_type": "markdown",
   "metadata": {},
   "source": [
    "## 1.3 Lists: \n",
    "* Written as a list of comma-separated values (items) between square brackets.\n",
    "* Lists might contain items of different types, but usually the items all have the same type."
   ]
  },
  {
   "cell_type": "code",
   "execution_count": 2,
   "metadata": {
    "collapsed": true
   },
   "outputs": [],
   "source": [
    "# Declare a list of numbers\n",
    "squares = [1,4,9,16,25]\n",
    "str1=[\"H\",\"e\",\"l\",\"l\",\"o\"]\n",
    "comb = [1,'a',2,'b',3,'c']"
   ]
  },
  {
   "cell_type": "code",
   "execution_count": null,
   "metadata": {
    "collapsed": true
   },
   "outputs": [],
   "source": [
    "squares[0] # In Python, the first item is indexed as 0"
   ]
  },
  {
   "cell_type": "code",
   "execution_count": null,
   "metadata": {
    "collapsed": true
   },
   "outputs": [],
   "source": [
    "squares[-1] # Index -1 refers to the last item"
   ]
  },
  {
   "cell_type": "code",
   "execution_count": null,
   "metadata": {
    "collapsed": true
   },
   "outputs": [],
   "source": [
    "squares[3:5]"
   ]
  },
  {
   "cell_type": "code",
   "execution_count": null,
   "metadata": {
    "collapsed": true
   },
   "outputs": [],
   "source": [
    "type(comb[0])"
   ]
  },
  {
   "cell_type": "markdown",
   "metadata": {},
   "source": [
    "## 1.4 Control Flow Statements\n",
    "#### \"*if*\"Statement\n",
    "* Do different things according to if the condition holds true.\n",
    "* You can use multiple conditions"
   ]
  },
  {
   "cell_type": "code",
   "execution_count": null,
   "metadata": {
    "collapsed": true
   },
   "outputs": [],
   "source": [
    "x = int(input(\"Please enter an integer: \"))\n",
    "\n",
    "if x < 0:\n",
    "    x = 0\n",
    "    print ('Negative changed to 0')\n",
    "elif x == 0: # Note this is not '='\n",
    "    print ('Zero')\n",
    "elif x==1:\n",
    "    print ('Single')\n",
    "else:\n",
    "    print('More')"
   ]
  },
  {
   "cell_type": "markdown",
   "metadata": {},
   "source": [
    "* Recommend: very condition is exclusive to the others\n",
    "* If more than one condition are meet, do things in the first condition"
   ]
  },
  {
   "cell_type": "code",
   "execution_count": null,
   "metadata": {
    "collapsed": true
   },
   "outputs": [],
   "source": [
    "x = int(input(\"Please enter an integer: \"))\n",
    "\n",
    "if x <5:\n",
    "    print ('x is smaller than 5')\n",
    "elif x>3:\n",
    "    print ('x is greater than 3')"
   ]
  },
  {
   "cell_type": "markdown",
   "metadata": {},
   "source": [
    "#### '*for*' loop\n",
    "Loop through a list:"
   ]
  },
  {
   "cell_type": "code",
   "execution_count": null,
   "metadata": {
    "collapsed": true
   },
   "outputs": [],
   "source": [
    "words = ['cat', 'window', 'defenestrate'] # Create a list of 3 strings\n",
    "for w in words:\n",
    "    print(w,len(w))"
   ]
  },
  {
   "cell_type": "code",
   "execution_count": null,
   "metadata": {
    "collapsed": true
   },
   "outputs": [],
   "source": [
    "for i in range(1,10): # range defines a list from 1 to 10\n",
    "    print i"
   ]
  },
  {
   "cell_type": "markdown",
   "metadata": {
    "nbpresent": {
     "id": "9f0504d3-8fe6-4fb8-83ca-4b75b45e32e2"
    },
    "slideshow": {
     "slide_type": "slide"
    }
   },
   "source": [
    "## 2. Python Scripting in ArcGIS\n",
    "* Other than ArcMap/ArcCatalog, ModelBuilder, another interface to conduct geoprocessing\n",
    "* Not visual - but support more logical expressions, data types\n",
    "* Highly customizable - you can combine your program and ArcGIS built-in processing tools\n",
    "* Object-Oriented Language - you can create your own objects and define new functions \n",
    "* Not free nor open-source - you need an ArcGIS license to run the file"
   ]
  },
  {
   "cell_type": "markdown",
   "metadata": {
    "nbpresent": {
     "id": "55bf00dc-0dbc-445e-a3ea-dc0e5ce2b073"
    },
    "slideshow": {
     "slide_type": "slide"
    }
   },
   "source": [
    "# 1. Import arcpy\n",
    "so that you can use all functions built-in the module"
   ]
  },
  {
   "cell_type": "code",
   "execution_count": 27,
   "metadata": {
    "collapsed": true,
    "nbpresent": {
     "id": "83564b0e-4631-4c08-b104-4ab4128ed021"
    },
    "slideshow": {
     "slide_type": "slide"
    }
   },
   "outputs": [],
   "source": [
    "import arcpy"
   ]
  },
  {
   "cell_type": "markdown",
   "metadata": {},
   "source": [
    "##    2. Set Environments (Set default values for your program)\n",
    "### Set current workspace:"
   ]
  },
  {
   "cell_type": "code",
   "execution_count": null,
   "metadata": {
    "collapsed": true
   },
   "outputs": [],
   "source": [
    "arcpy.env.workspace = \"C:\\Student\"\n",
    "print(arcpy.env.workspace)"
   ]
  },
  {
   "cell_type": "markdown",
   "metadata": {},
   "source": [
    "### set the default cellsize"
   ]
  },
  {
   "cell_type": "code",
   "execution_count": null,
   "metadata": {
    "collapsed": true
   },
   "outputs": [],
   "source": [
    "arcpy.env.cellsize = 10\n",
    "print(arcpy.env.workspace)"
   ]
  },
  {
   "cell_type": "markdown",
   "metadata": {},
   "source": [
    "### Overwrite the output or not"
   ]
  },
  {
   "cell_type": "raw",
   "metadata": {},
   "source": [
    "print (arcpy.env.overwriteOutput)"
   ]
  },
  {
   "cell_type": "raw",
   "metadata": {},
   "source": [
    "arcpy.env.overwriteOutput = True"
   ]
  },
  {
   "cell_type": "raw",
   "metadata": {},
   "source": [
    "print (arcpy.env.overwriteOutput)"
   ]
  },
  {
   "cell_type": "markdown",
   "metadata": {},
   "source": [
    "### Describe the properties of your data"
   ]
  },
  {
   "cell_type": "code",
   "execution_count": 34,
   "metadata": {
    "collapsed": false
   },
   "outputs": [],
   "source": [
    "desc = arcpy.Describe(\"C:\\Student\\BldgModels10_0\\FtCollins.gdb\\CityLimits\")"
   ]
  },
  {
   "cell_type": "code",
   "execution_count": 40,
   "metadata": {
    "collapsed": false
   },
   "outputs": [
    {
     "name": "stdout",
     "output_type": "stream",
     "text": [
      "<geoprocessing describe data object object at 0x03596F08>\n"
     ]
    }
   ],
   "source": [
    "print(desc)"
   ]
  },
  {
   "cell_type": "raw",
   "metadata": {},
   "source": [
    "print(type(desc))"
   ]
  },
  {
   "cell_type": "code",
   "execution_count": 45,
   "metadata": {
    "collapsed": false
   },
   "outputs": [
    {
     "name": "stdout",
     "output_type": "stream",
     "text": [
      "Polygon\n"
     ]
    }
   ],
   "source": [
    "print desc.shapeType"
   ]
  },
  {
   "cell_type": "code",
   "execution_count": 44,
   "metadata": {
    "collapsed": false
   },
   "outputs": [
    {
     "name": "stdout",
     "output_type": "stream",
     "text": [
      "NAD_1983_StatePlane_Colorado_North_FIPS_0501\n"
     ]
    }
   ],
   "source": [
    "print desc.spatialReference.Name"
   ]
  },
  {
   "cell_type": "code",
   "execution_count": null,
   "metadata": {
    "collapsed": true
   },
   "outputs": [],
   "source": []
  }
 ],
 "metadata": {
  "anaconda-cloud": {},
  "kernelspec": {
   "display_name": "Python [default]",
   "language": "python",
   "name": "python2"
  },
  "language_info": {
   "codemirror_mode": {
    "name": "ipython",
    "version": 2
   },
   "file_extension": ".py",
   "mimetype": "text/x-python",
   "name": "python",
   "nbconvert_exporter": "python",
   "pygments_lexer": "ipython2",
   "version": "2.7.12"
  },
  "nbpresent": {
   "slides": {
    "3c7f56bd-d34d-42f9-b8d4-9f06cb622752": {
     "id": "3c7f56bd-d34d-42f9-b8d4-9f06cb622752",
     "prev": "fd73dee0-84c5-4b89-9f71-447bfcadc918",
     "regions": {
      "92b1aeda-1678-463a-9ce0-ee062603d7d6": {
       "attrs": {
        "height": 0.8,
        "width": 0.8,
        "x": 0.1,
        "y": 0.1
       },
       "content": {
        "cell": "9cfbfe9a-6bc9-45d0-b898-138c44395926",
        "part": "whole"
       },
       "id": "92b1aeda-1678-463a-9ce0-ee062603d7d6"
      }
     }
    },
    "620a1d0b-09b2-49b9-85b8-6b2614659955": {
     "id": "620a1d0b-09b2-49b9-85b8-6b2614659955",
     "prev": "f63ddeae-7ee5-459c-8c9f-67eeaaf3ed16",
     "regions": {
      "08b8d197-7453-44c5-bd76-747aade20972": {
       "attrs": {
        "height": 0.8,
        "width": 0.8,
        "x": 0.1,
        "y": 0.1
       },
       "content": {
        "cell": "73f0bd38-f7ff-4a3b-b16a-e4f8550f65e6",
        "part": "whole"
       },
       "id": "08b8d197-7453-44c5-bd76-747aade20972"
      }
     }
    },
    "a7393fa4-2f75-4d07-b80b-3c3c758d88bc": {
     "id": "a7393fa4-2f75-4d07-b80b-3c3c758d88bc",
     "prev": "dc61a973-eac4-4bdc-8b84-da00f5526850",
     "regions": {
      "66eff56f-9092-422a-8cb1-80492da2771b": {
       "attrs": {
        "height": 0.8,
        "width": 0.8,
        "x": 0.1,
        "y": 0.1
       },
       "content": {
        "cell": "77987871-6c6a-4fb3-b9e8-41b0b5ea4536",
        "part": "whole"
       },
       "id": "66eff56f-9092-422a-8cb1-80492da2771b"
      }
     }
    },
    "dc61a973-eac4-4bdc-8b84-da00f5526850": {
     "id": "dc61a973-eac4-4bdc-8b84-da00f5526850",
     "prev": "3c7f56bd-d34d-42f9-b8d4-9f06cb622752",
     "regions": {
      "82c1de44-29f6-43f7-b1ce-6350b9bb8b92": {
       "attrs": {
        "height": 0.8,
        "width": 0.8,
        "x": 0.1,
        "y": 0.1
       },
       "content": {
        "cell": "db681283-4b94-424a-855f-6634bd6983ac",
        "part": "whole"
       },
       "id": "82c1de44-29f6-43f7-b1ce-6350b9bb8b92"
      }
     }
    },
    "f63ddeae-7ee5-459c-8c9f-67eeaaf3ed16": {
     "id": "f63ddeae-7ee5-459c-8c9f-67eeaaf3ed16",
     "prev": "a7393fa4-2f75-4d07-b80b-3c3c758d88bc",
     "regions": {
      "d34b6fb5-f530-446f-9524-1c70a922ff45": {
       "attrs": {
        "height": 0.8,
        "width": 0.8,
        "x": 0.1,
        "y": 0.1
       },
       "content": {
        "cell": "f449429a-99c7-422d-99b3-983a53f1e980",
        "part": "whole"
       },
       "id": "d34b6fb5-f530-446f-9524-1c70a922ff45"
      }
     }
    },
    "fd73dee0-84c5-4b89-9f71-447bfcadc918": {
     "id": "fd73dee0-84c5-4b89-9f71-447bfcadc918",
     "prev": null,
     "regions": {
      "5dc0ad86-2190-4ecb-8ef4-395144e83849": {
       "attrs": {
        "height": 0.8,
        "width": 0.8,
        "x": 0.1,
        "y": 0.1
       },
       "content": {
        "cell": "9f0504d3-8fe6-4fb8-83ca-4b75b45e32e2",
        "part": "whole"
       },
       "id": "5dc0ad86-2190-4ecb-8ef4-395144e83849"
      }
     }
    }
   },
   "themes": {
    "default": "7d91f1ec-3c64-4ee8-a711-3ce988231f7e",
    "theme": {
     "7d91f1ec-3c64-4ee8-a711-3ce988231f7e": {
      "id": "7d91f1ec-3c64-4ee8-a711-3ce988231f7e",
      "palette": {
       "19cc588f-0593-49c9-9f4b-e4d7cc113b1c": {
        "id": "19cc588f-0593-49c9-9f4b-e4d7cc113b1c",
        "rgb": [
         252,
         252,
         252
        ]
       },
       "31af15d2-7e15-44c5-ab5e-e04b16a89eff": {
        "id": "31af15d2-7e15-44c5-ab5e-e04b16a89eff",
        "rgb": [
         68,
         68,
         68
        ]
       },
       "50f92c45-a630-455b-aec3-788680ec7410": {
        "id": "50f92c45-a630-455b-aec3-788680ec7410",
        "rgb": [
         155,
         177,
         192
        ]
       },
       "c5cc3653-2ee1-402a-aba2-7caae1da4f6c": {
        "id": "c5cc3653-2ee1-402a-aba2-7caae1da4f6c",
        "rgb": [
         43,
         126,
         184
        ]
       },
       "efa7f048-9acb-414c-8b04-a26811511a21": {
        "id": "efa7f048-9acb-414c-8b04-a26811511a21",
        "rgb": [
         25.118061674008803,
         73.60176211453744,
         107.4819383259912
        ]
       }
      },
      "rules": {
       "blockquote": {
        "color": "50f92c45-a630-455b-aec3-788680ec7410"
       },
       "code": {
        "font-family": "Anonymous Pro"
       },
       "h1": {
        "color": "c5cc3653-2ee1-402a-aba2-7caae1da4f6c",
        "font-family": "Lato",
        "font-size": 8
       },
       "h2": {
        "color": "c5cc3653-2ee1-402a-aba2-7caae1da4f6c",
        "font-family": "Lato",
        "font-size": 6
       },
       "h3": {
        "color": "50f92c45-a630-455b-aec3-788680ec7410",
        "font-family": "Lato",
        "font-size": 5.5
       },
       "h4": {
        "color": "c5cc3653-2ee1-402a-aba2-7caae1da4f6c",
        "font-family": "Lato",
        "font-size": 5
       },
       "h5": {
        "font-family": "Lato"
       },
       "h6": {
        "font-family": "Lato"
       },
       "h7": {
        "font-family": "Lato"
       },
       "pre": {
        "font-family": "Anonymous Pro",
        "font-size": 4
       }
      },
      "text-base": {
       "font-family": "Merriweather",
       "font-size": 4
      }
     }
    }
   }
  }
 },
 "nbformat": 4,
 "nbformat_minor": 1
}
