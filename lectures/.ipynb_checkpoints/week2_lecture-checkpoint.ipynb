{
 "cells": [
  {
   "cell_type": "markdown",
   "metadata": {
    "nbpresent": {
     "id": "c6bfb25d-e7a8-4c64-a4b0-2addfae63bd0"
    }
   },
   "source": [
    "# Applied GIS (GEOG 489)\n",
    "\n",
    "Week 2: Python Scripting for Geoprocessing in ArcGIS\n",
    "Slides of this class: \n",
    "\n",
    "<br>\n",
    "Instructor: Yi Qiang\n",
    "\n",
    "Email: yi.qiang@hawaii.edu\n"
   ]
  },
  {
   "cell_type": "markdown",
   "metadata": {
    "nbpresent": {
     "id": "ccd91f94-7462-4855-b41e-4e4d92c51869"
    }
   },
   "source": [
    "# Python\n",
    "* One of the most popular Object-Oriented Programming Language in academia\n",
    "* Easy to learn/read/use\n",
    "* Abundant open-source packages for spatial analysis, statistics, data mining, and visualization \n",
    "* Large user group - you are not alone\n",
    "> Drawback: interpreted language - not as fast compiled languages (C, Fortran)"
   ]
  },
  {
   "cell_type": "markdown",
   "metadata": {
    "nbpresent": {
     "id": "cc6ab0ed-84f4-45dd-97f0-b189c7cdc7b7"
    }
   },
   "source": [
    "# Python Interface of ArcGIS\n",
    "\n",
    "* Another way to use ArcGIS functionalities (other than ModelBuilder and manual manipulation)\n",
    "* Execute and chain the geoprocessing tools in a logical sequential\n",
    "* Python scripts can be run as \n",
    "\t* commands in ArcGIS console\n",
    "\t* an external Python editor (an integrated development evironment, or IDE).\n",
    "---"
   ]
  },
  {
   "cell_type": "markdown",
   "metadata": {
    "nbpresent": {
     "id": "478eb0d5-fcd7-42d5-ad76-35f1cac7b934"
    }
   },
   "source": [
    "# Python Console in ArcGIS\n",
    "\n",
    "<img  src=\"../labs/lab2_data/misc/panel.png\" height=\"80\">\n",
    "<img  src=\"../labs/lab2_data/misc/console.png \"height=\"250\">\n",
    "\n",
    "* Easy to use (no need to open another editor)\n",
    "* Interactive - see results when enter a line (like a command)\n"
   ]
  },
  {
   "cell_type": "markdown",
   "metadata": {
    "nbpresent": {
     "id": "4ff054f1-538a-4cb6-8e03-331a3d4f1be1"
    }
   },
   "source": [
    "# An External Python Editor\n",
    "* Integrated Development Environment or IDE\n",
    "* More functionalities supporting programming\n",
    "* [10 Best Python Editors](http://noeticforce.com/best-python-ide-for-programmers-windows-and-mac) \n",
    "\t* Pydev with Eclipse\n",
    "\t* Best Python IDE\n",
    "\t* PyCharm\n",
    "\t* VIM\n",
    "\t* Wing IDE. \n",
    "\t* Spyder Python. \n",
    "\t* Komodo IDE. \n",
    "\t* PTVS \n",
    "\t* Eric Python."
   ]
  },
  {
   "cell_type": "markdown",
   "metadata": {},
   "source": [
    "# The Interface of IDE\n",
    "\n",
    "<img align = 'left' src=\"../labs/lab2_data/misc/interface.png\" width=\"700\">\n"
   ]
  },
  {
   "cell_type": "markdown",
   "metadata": {
    "nbpresent": {
     "id": "fa7f65ee-f09b-4916-8dd9-e93a852dfab9"
    }
   },
   "source": [
    "# 1 Basics of Python\n",
    "\n",
    "## 1.1 Numbers\n",
    "#### Assign values\n",
    "You don't need to explicitly declare the type of variables. Python will decide the variable type from the assigned value."
   ]
  },
  {
   "cell_type": "code",
   "execution_count": null,
   "metadata": {
    "collapsed": true
   },
   "outputs": [],
   "source": [
    "a = 10\n",
    "b = 10.0\n",
    "print(type(b))"
   ]
  },
  {
   "cell_type": "markdown",
   "metadata": {},
   "source": [
    "#### Expression syntax is straightforward: e.g. +, -, * and /"
   ]
  },
  {
   "cell_type": "code",
   "execution_count": null,
   "metadata": {
    "collapsed": true
   },
   "outputs": [],
   "source": [
    "2 + 2"
   ]
  },
  {
   "cell_type": "code",
   "execution_count": null,
   "metadata": {
    "collapsed": true
   },
   "outputs": [],
   "source": [
    "5 + 6 / 3 # * / are of higher precedence than + -"
   ]
  },
  {
   "cell_type": "code",
   "execution_count": null,
   "metadata": {
    "collapsed": true
   },
   "outputs": [],
   "source": [
    "(50 - 5 * 6) / 4 # use parenthesis to specify the precedence of operators, but not square/curly bracket"
   ]
  },
  {
   "cell_type": "markdown",
   "metadata": {
    "nbpresent": {
     "id": "d7fde63e-a083-45f4-bcba-8ed525ba6686"
    }
   },
   "source": [
    "#### Other expressions"
   ]
  },
  {
   "cell_type": "code",
   "execution_count": null,
   "metadata": {
    "collapsed": true,
    "nbpresent": {
     "id": "350acde7-6c1a-4ac3-a5f3-ecf1359b5cfd"
    }
   },
   "outputs": [],
   "source": [
    "17 // 3  # floor division discards the fractional part"
   ]
  },
  {
   "cell_type": "code",
   "execution_count": null,
   "metadata": {
    "collapsed": true,
    "nbpresent": {
     "id": "8f098c0f-78bf-42e9-a375-afb445c1868c"
    }
   },
   "outputs": [],
   "source": [
    "5**2 #power"
   ]
  },
  {
   "cell_type": "markdown",
   "metadata": {
    "nbpresent": {
     "id": "9bacd498-a9d4-459d-8cdf-ee4eca7ab136"
    }
   },
   "source": [
    "## 1.2 Strings"
   ]
  },
  {
   "cell_type": "markdown",
   "metadata": {
    "nbpresent": {
     "id": "a007629b-be15-46b5-8120-93ea95b662ef"
    }
   },
   "source": [
    "#### Strings can be enclosed in single quotes ('...') or double quotes (\"...\") with the same result"
   ]
  },
  {
   "cell_type": "code",
   "execution_count": null,
   "metadata": {
    "collapsed": true,
    "nbpresent": {
     "id": "991164ab-2340-416d-9fd5-2a63a93d969e"
    }
   },
   "outputs": [],
   "source": [
    "# Declare 3 variables\n",
    "a = 'Hello'\n",
    "b = \"World\"\n",
    "c = 3"
   ]
  },
  {
   "cell_type": "markdown",
   "metadata": {
    "nbpresent": {
     "id": "7100a713-7eb8-4040-970d-51648c48c4f9"
    }
   },
   "source": [
    "#### Strings can be concatenated by '+'"
   ]
  },
  {
   "cell_type": "code",
   "execution_count": null,
   "metadata": {
    "collapsed": true,
    "nbpresent": {
     "id": "0d935ded-2f1b-45b5-bd48-bbe9f3eb1c8d"
    }
   },
   "outputs": [],
   "source": [
    "a + b"
   ]
  },
  {
   "cell_type": "code",
   "execution_count": null,
   "metadata": {
    "collapsed": true,
    "nbpresent": {
     "id": "745dae68-ff6f-4eaa-b243-547561508089"
    }
   },
   "outputs": [],
   "source": [
    "a + c"
   ]
  },
  {
   "cell_type": "markdown",
   "metadata": {
    "nbpresent": {
     "id": "6007ea1a-d265-4c14-b195-9e595e236014"
    }
   },
   "source": [
    "#### Strings and numbers cannot be directly concatenated. You may need to convert number into string"
   ]
  },
  {
   "cell_type": "code",
   "execution_count": null,
   "metadata": {
    "collapsed": true,
    "nbpresent": {
     "id": "065ba3ad-00cc-4114-a86b-e64b1e09e2f8"
    }
   },
   "outputs": [],
   "source": [
    "a + str(c)"
   ]
  },
  {
   "cell_type": "markdown",
   "metadata": {
    "nbpresent": {
     "id": "cba292ab-137f-42da-9017-1e2ddcb32f0a"
    }
   },
   "source": [
    "#### Strings are essentially lists of letters/symbols"
   ]
  },
  {
   "cell_type": "code",
   "execution_count": null,
   "metadata": {
    "collapsed": true,
    "nbpresent": {
     "id": "3d9f6349-5c4d-4562-8166-fea8339c4590"
    }
   },
   "outputs": [],
   "source": [
    "a[3]"
   ]
  },
  {
   "cell_type": "code",
   "execution_count": null,
   "metadata": {
    "collapsed": true,
    "nbpresent": {
     "id": "0e39bcae-5460-4085-8442-108cae1dd382"
    }
   },
   "outputs": [],
   "source": [
    "a[-1]"
   ]
  },
  {
   "cell_type": "code",
   "execution_count": null,
   "metadata": {
    "collapsed": true,
    "nbpresent": {
     "id": "d9b95181-3440-4251-8f24-e5ffc0371d54"
    }
   },
   "outputs": [],
   "source": [
    "a[1:4]"
   ]
  },
  {
   "cell_type": "markdown",
   "metadata": {
    "nbpresent": {
     "id": "8d8e2809-280e-45a3-97cd-cd739336bf98"
    }
   },
   "source": [
    "##  1.3 Lists: \n",
    "* Written as a list of comma-separated values (items) between square brackets.\n",
    "* Lists might contain items of different types, but usually the items all have the same type."
   ]
  },
  {
   "cell_type": "code",
   "execution_count": 58,
   "metadata": {
    "collapsed": true,
    "nbpresent": {
     "id": "714e328e-26e8-4a5f-8b98-8c7bd6067f5c"
    }
   },
   "outputs": [],
   "source": [
    "# Declare a list of numbers\n",
    "squares = [1,4,9,16,25]\n",
    "str1=[\"H\",\"e\",\"l\",\"l\",\"o\"]\n",
    "comb = [1,'a',2,'b',3,'c']"
   ]
  },
  {
   "cell_type": "code",
   "execution_count": null,
   "metadata": {
    "collapsed": true,
    "nbpresent": {
     "id": "11b30855-989d-4e37-bc7c-e468269491bf"
    }
   },
   "outputs": [],
   "source": [
    "squares[0] # In Python, the first item is indexed as 0"
   ]
  },
  {
   "cell_type": "code",
   "execution_count": null,
   "metadata": {
    "collapsed": true,
    "nbpresent": {
     "id": "9a05e4db-8a1b-40d1-811e-8027669f5b73"
    }
   },
   "outputs": [],
   "source": [
    "squares[-1] # Index -1 refers to the last item"
   ]
  },
  {
   "cell_type": "code",
   "execution_count": null,
   "metadata": {
    "collapsed": true,
    "nbpresent": {
     "id": "45b742dd-662f-43cb-9509-97fdc91ee12b"
    }
   },
   "outputs": [],
   "source": [
    "squares[3:5]"
   ]
  },
  {
   "cell_type": "code",
   "execution_count": null,
   "metadata": {
    "collapsed": true
   },
   "outputs": [],
   "source": [
    "print(type(comb[0]))\n",
    "print(type(comb[1]))"
   ]
  },
  {
   "cell_type": "markdown",
   "metadata": {},
   "source": [
    "#### Shallow copy and hard copy\n",
    "* `A = B` means a shallow copy from A to B\n",
    "* *Shallow copy* is making a reference from B to A, **not** copying the value from A to B.\n",
    "* Shallow copy with '=' only applies to compound objects such as list and array, not simple data types such as integer, float and string\n",
    "* You will need to use copy\n",
    "\n",
    "#### Create a list 'L1' and then copy 'L1' to 'L2':"
   ]
  },
  {
   "cell_type": "code",
   "execution_count": null,
   "metadata": {
    "collapsed": true
   },
   "outputs": [],
   "source": [
    "L1 = [1,2,3]\n",
    "L2 = L1\n",
    "print('L2:',L2)"
   ]
  },
  {
   "cell_type": "markdown",
   "metadata": {},
   "source": [
    "#### Then change the first element of L1, L2 will update automatically. Because L2 is a shallow copy of L1"
   ]
  },
  {
   "cell_type": "code",
   "execution_count": null,
   "metadata": {
    "collapsed": true
   },
   "outputs": [],
   "source": [
    "L1[0] = 4\n",
    "print('L1: ',L1)\n",
    "print('L2:',L2)"
   ]
  },
  {
   "cell_type": "markdown",
   "metadata": {},
   "source": [
    "#### You need to use `copy.deepcopy` to copy the value of A to B"
   ]
  },
  {
   "cell_type": "code",
   "execution_count": null,
   "metadata": {
    "collapsed": true
   },
   "outputs": [],
   "source": [
    "import copy\n",
    "L1 = [1,2,3]\n",
    "L2 = copy.deepcopy(L1)\n",
    "L1[0] = 4\n",
    "print('L1: ',L1)\n",
    "print('L2:',L2) "
   ]
  },
  {
   "cell_type": "markdown",
   "metadata": {
    "nbpresent": {
     "id": "3c190f66-5b29-424b-8346-c05b8ec8999f"
    }
   },
   "source": [
    "## 1.4 Control Flow Statements\n",
    "#### \"*if*\"Statement\n",
    "* Do different things according to if the condition holds true.\n",
    "* You can use multiple conditions"
   ]
  },
  {
   "cell_type": "code",
   "execution_count": null,
   "metadata": {
    "collapsed": false,
    "nbpresent": {
     "id": "ed109401-9406-4470-b3f8-632e92e35c22"
    }
   },
   "outputs": [],
   "source": [
    "x = int(input(\"Please enter an integer: \"))\n",
    "\n",
    "if x < 0:\n",
    "    x = 0\n",
    "    print ('Negative changed to 0')\n",
    "elif x == 0: # Note this is not '='\n",
    "    print ('Zero')\n",
    "elif x==1:\n",
    "    print ('Single')\n",
    "else:\n",
    "    print('More')"
   ]
  },
  {
   "cell_type": "markdown",
   "metadata": {
    "nbpresent": {
     "id": "51d52a2b-2789-47c8-beb2-e23c4d71883a"
    }
   },
   "source": [
    "* Recommend: very condition is exclusive to the others\n",
    "* If more than one condition are meet, do things in the first condition"
   ]
  },
  {
   "cell_type": "code",
   "execution_count": null,
   "metadata": {
    "collapsed": true,
    "nbpresent": {
     "id": "4efdd805-d456-42da-968c-7f0ddce4725b"
    }
   },
   "outputs": [],
   "source": [
    "x = int(input(\"Please enter an integer: \"))\n",
    "\n",
    "if x <5:\n",
    "    print ('x is smaller than 5')\n",
    "elif x>3:\n",
    "    print ('x is greater than 3')"
   ]
  },
  {
   "cell_type": "markdown",
   "metadata": {
    "nbpresent": {
     "id": "4bde1a70-27a2-4da3-9cca-ab0119b82b48"
    }
   },
   "source": [
    "#### '*for*' statement\n",
    "Iterate through every element in a list"
   ]
  },
  {
   "cell_type": "code",
   "execution_count": null,
   "metadata": {
    "collapsed": true,
    "nbpresent": {
     "id": "f9fd08b1-f715-45d2-bf84-3490fcbca499"
    }
   },
   "outputs": [],
   "source": [
    "words = ['cat', 'window', 'defenestrate'] # Create a list of 3 strings\n",
    "for w in words:\n",
    "    print(w,len(w))"
   ]
  },
  {
   "cell_type": "markdown",
   "metadata": {},
   "source": [
    "The function range(a,b) creates a list of numbers from a to (b-1), then the for loop iterates through all numbers in the list."
   ]
  },
  {
   "cell_type": "markdown",
   "metadata": {
    "collapsed": true
   },
   "source": [
    "for i in range(1,10): # range defines a list from 1 to 10\n",
    "    print i"
   ]
  },
  {
   "cell_type": "markdown",
   "metadata": {},
   "source": [
    "#### '*while*' statement\n",
    "Repeat the same action if the condition hold true"
   ]
  },
  {
   "cell_type": "code",
   "execution_count": null,
   "metadata": {
    "collapsed": true
   },
   "outputs": [],
   "source": [
    "a = 0\n",
    "while a < 10: # if a is smaller than b, repeat the following action\n",
    "    print a\n",
    "    a = a + 1"
   ]
  },
  {
   "cell_type": "markdown",
   "metadata": {
    "nbpresent": {
     "id": "9f0504d3-8fe6-4fb8-83ca-4b75b45e32e2"
    },
    "slideshow": {
     "slide_type": "slide"
    }
   },
   "source": [
    "## 2. Python Scripting in ArcGIS\n",
    "* Other than ArcMap/ArcCatalog, ModelBuilder, another interface to conduct geoprocessing\n",
    "* Not visual - but support more logical expressions, data types\n",
    "* Highly customizable - you can combine your program and ArcGIS built-in processing tools\n",
    "* Object-Oriented Language - you can create your own objects and define new functions \n",
    "* Not free nor open-source - you need an ArcGIS license to run the file"
   ]
  },
  {
   "cell_type": "markdown",
   "metadata": {
    "nbpresent": {
     "id": "55bf00dc-0dbc-445e-a3ea-dc0e5ce2b073"
    },
    "slideshow": {
     "slide_type": "slide"
    }
   },
   "source": [
    "## Steps of using 'arcpy' for geoprocessing\n",
    "1. Import arcpy - make tools in arcpy ready to use\n",
    "2. Set environments - Define default settings used in your script\n",
    "3. Link data - specify the path of your data individually or by *Lists*\n",
    "4. Specify variables and parameters of geoprocessing tools\n",
    "5. Define an execution order of the tools"
   ]
  },
  {
   "cell_type": "markdown",
   "metadata": {},
   "source": [
    "## Step 1: import arcpy"
   ]
  },
  {
   "cell_type": "code",
   "execution_count": 4,
   "metadata": {
    "collapsed": true,
    "nbpresent": {
     "id": "83564b0e-4631-4c08-b104-4ab4128ed021"
    },
    "slideshow": {
     "slide_type": "slide"
    }
   },
   "outputs": [],
   "source": [
    "import arcpy"
   ]
  },
  {
   "cell_type": "markdown",
   "metadata": {
    "nbpresent": {
     "id": "49959d10-1991-47bc-bbe4-b5641865906d"
    }
   },
   "source": [
    "##    Step 2: Set Environments (Set default values for your program)\n",
    "#### Set current workspace - specify the default input/output folder"
   ]
  },
  {
   "cell_type": "code",
   "execution_count": null,
   "metadata": {
    "collapsed": true
   },
   "outputs": [],
   "source": [
    "arcpy.env.workspace = \"C:\\Student\"\n",
    "print(arcpy.env.workspace)"
   ]
  },
  {
   "cell_type": "markdown",
   "metadata": {
    "nbpresent": {
     "id": "d9c2e4dd-bed4-4eae-a50a-e242c0defa32"
    }
   },
   "source": [
    "#### set the default cellsize:"
   ]
  },
  {
   "cell_type": "code",
   "execution_count": null,
   "metadata": {
    "collapsed": true
   },
   "outputs": [],
   "source": [
    "arcpy.env.cellsize = 10\n",
    "print(arcpy.env.workspace)"
   ]
  },
  {
   "cell_type": "markdown",
   "metadata": {
    "nbpresent": {
     "id": "d5e3007e-d80d-44d6-af79-6eebc7aaac84"
    }
   },
   "source": [
    "#### Overwrite the output or not:"
   ]
  },
  {
   "cell_type": "code",
   "execution_count": null,
   "metadata": {
    "collapsed": true
   },
   "outputs": [],
   "source": [
    "print(arcpy.env.overwriteOutput)"
   ]
  },
  {
   "cell_type": "code",
   "execution_count": 9,
   "metadata": {
    "collapsed": true
   },
   "outputs": [],
   "source": [
    "arcpy.env.overwriteOutput = True"
   ]
  },
  {
   "cell_type": "code",
   "execution_count": null,
   "metadata": {
    "collapsed": true
   },
   "outputs": [],
   "source": [
    "print (arcpy.env.overwriteOutput)"
   ]
  },
  {
   "cell_type": "markdown",
   "metadata": {},
   "source": [
    "#### The above scripts are equal to the following manual settings in ArcGIS:\n",
    "<img  align = 'left' src=\"../labs/lab2_data/misc/workspace.png \"height=\"180\">"
   ]
  },
  {
   "cell_type": "markdown",
   "metadata": {
    "nbpresent": {
     "id": "28bf5fff-26cf-49d3-9d39-ef58967efc86"
    }
   },
   "source": [
    "#### Describe the properties of your data"
   ]
  },
  {
   "cell_type": "code",
   "execution_count": null,
   "metadata": {
    "collapsed": true
   },
   "outputs": [],
   "source": [
    "desc = arcpy.Describe(\"C:\\Student\\BldgModels10_0\\FtCollins.gdb\\CityLimits\")\n",
    "print(desc)"
   ]
  },
  {
   "cell_type": "code",
   "execution_count": null,
   "metadata": {
    "collapsed": true,
    "nbpresent": {
     "id": "28078666-8e9b-4889-b957-e8bd4b170e5c"
    }
   },
   "outputs": [],
   "source": [
    "print desc.shapeType"
   ]
  },
  {
   "cell_type": "code",
   "execution_count": null,
   "metadata": {
    "collapsed": true,
    "nbpresent": {
     "id": "cbcf5c79-f084-4396-bfe0-99f7e8491bd8"
    }
   },
   "outputs": [],
   "source": [
    "print desc.spatialReference.Name"
   ]
  },
  {
   "cell_type": "markdown",
   "metadata": {},
   "source": [
    "## Step 3: Link to Data\n",
    "### Option 1: Link to data individually using path\n",
    "Link 'Streams' variable to the streams shapefile and print the shape type: "
   ]
  },
  {
   "cell_type": "markdown",
   "metadata": {},
   "source": [
    "Streams=\"C:/Student/PythonGP10_0/Data/SanJuan.gdb/streams\"\n",
    "desc = arcpy.Describe(Streams)\n",
    "print (desc.shapeType)"
   ]
  },
  {
   "cell_type": "markdown",
   "metadata": {},
   "source": [
    "Or, you can only write the portion of the path under the defined workspace"
   ]
  },
  {
   "cell_type": "code",
   "execution_count": null,
   "metadata": {
    "collapsed": true
   },
   "outputs": [],
   "source": [
    "Streams=\"/PythonGP10_0/Data/SanJuan.gdb/streams\""
   ]
  },
  {
   "cell_type": "markdown",
   "metadata": {},
   "source": [
    "### Option 2: Creating lists of GIS data\n",
    "* List all GIS data in the workspace - you need to specify the workspace in advance\n",
    "* Represent GIS data in an ordered collection\n",
    "* You can freely add, remove and sort items in the list\n",
    "\n",
    "|Function name|Type of list|\n",
    "|---|---|\n",
    "|ListDatasets|Returns the datasets in the current workspace|\n",
    "|ListFeatureClasses|Returns the feature classes in the current workspace|\n",
    "|ListFields|Returns a list of attribute fields|\n",
    "|ListRasters|Returns a list of rasters found in the current workspace|\n",
    "|ListWorkspaces|Returns a list of workspaces within the current workspace|"
   ]
  },
  {
   "cell_type": "markdown",
   "metadata": {},
   "source": [
    "#### A list of feature classes is created from the contents of \"U:/Data/SanJuan.gdb\""
   ]
  },
  {
   "cell_type": "code",
   "execution_count": 5,
   "metadata": {
    "collapsed": false
   },
   "outputs": [],
   "source": [
    "arcpy.env.workspace=\"C:/Student/PythonGP10_0/Data/SanJuan.gdb\"\n",
    "fcList = arcpy.ListFeatureClasses()"
   ]
  },
  {
   "cell_type": "markdown",
   "metadata": {},
   "source": [
    "#### Use a *for* loop to iterate through the list and print the spatial reference of each item"
   ]
  },
  {
   "cell_type": "code",
   "execution_count": null,
   "metadata": {
    "collapsed": true
   },
   "outputs": [],
   "source": [
    "for fc in fcList:\n",
    "    desc = arcpy.Describe(fc)\n",
    "    print desc.spatialReference.Name"
   ]
  },
  {
   "cell_type": "markdown",
   "metadata": {},
   "source": [
    "### Step 4: Specify Variables/Parameters for Geoprocessing Tools\n",
    "* All geoprocessing tools in ArcGIS can be used through Python (arcpy)\n",
    "* You can find the Python syntax of tools in ESRI Documentation or use 'Usage' function\n",
    "* You need to specify the input/output variables of the tools in order to run"
   ]
  },
  {
   "cell_type": "markdown",
   "metadata": {},
   "source": [
    "#### Find Python syntax of tool using 'Usage' function"
   ]
  },
  {
   "cell_type": "code",
   "execution_count": null,
   "metadata": {
    "collapsed": true
   },
   "outputs": [],
   "source": [
    "arcpy.Usage(\"Buffer_Analysis\")"
   ]
  },
  {
   "cell_type": "markdown",
   "metadata": {},
   "source": [
    "#### Specify input/output variables, parameters for the Buffer tool:"
   ]
  },
  {
   "cell_type": "code",
   "execution_count": null,
   "metadata": {
    "collapsed": true
   },
   "outputs": [],
   "source": [
    "inFeatures = \"Roads\"\n",
    "outBuffers = \"RoadBuffers\"\n",
    "buffField = \"1000 feet\"\n",
    "arcpy.Buffer_analysis(inFeatures, outBuffers, buffField)"
   ]
  },
  {
   "cell_type": "markdown",
   "metadata": {},
   "source": [
    "## Step 5: Define an Execution Order of your tools\n",
    "#### For example, you define a workflow to find all invasive plants within 2000 meters from streams and 5000 meters from the wilderness\n",
    "#### 1. Create 3000 buffer for streams"
   ]
  },
  {
   "cell_type": "code",
   "execution_count": 40,
   "metadata": {
    "collapsed": false
   },
   "outputs": [
    {
     "data": {
      "text/plain": [
       "<Result 'C:/Student/PythonGP10_0/Data/SanJuan.gdb\\\\streamBuffers'>"
      ]
     },
     "execution_count": 40,
     "metadata": {},
     "output_type": "execute_result"
    }
   ],
   "source": [
    "inFeatures1 = \"streams\"\n",
    "outBuffers1 = \"streamBuffers\"\n",
    "buffField1 = \"3000 meter\"\n",
    "arcpy.Buffer_analysis(inFeatures1, outBuffers1, buffField1)"
   ]
  },
  {
   "cell_type": "markdown",
   "metadata": {},
   "source": [
    "#### 2. Create 5000m buffer for the wilderness"
   ]
  },
  {
   "cell_type": "code",
   "execution_count": 41,
   "metadata": {
    "collapsed": false,
    "scrolled": true
   },
   "outputs": [
    {
     "data": {
      "text/plain": [
       "<Result 'C:/Student/PythonGP10_0/Data/SanJuan.gdb\\\\WildBuffers'>"
      ]
     },
     "execution_count": 41,
     "metadata": {},
     "output_type": "execute_result"
    }
   ],
   "source": [
    "inFeatures2 = \"Wilderness\"\n",
    "outBuffers2 = \"WildBuffers\"\n",
    "buffField2 = \"5000 meter\"\n",
    "arcpy.Buffer_analysis(inFeatures2, outBuffers2, buffField2)"
   ]
  },
  {
   "cell_type": "markdown",
   "metadata": {},
   "source": [
    "#### 3. Make an intersection of the two buffers"
   ]
  },
  {
   "cell_type": "code",
   "execution_count": 42,
   "metadata": {
    "collapsed": false
   },
   "outputs": [
    {
     "data": {
      "text/plain": [
       "<Result 'C:/Student/PythonGP10_0/Data/SanJuan.gdb\\\\bufferIntersect'>"
      ]
     },
     "execution_count": 42,
     "metadata": {},
     "output_type": "execute_result"
    }
   ],
   "source": [
    "arcpy.Intersect_analysis([outBuffers1,outBuffers2], \"bufferIntersect\")"
   ]
  },
  {
   "cell_type": "markdown",
   "metadata": {},
   "source": [
    "#### 4. Create a feature layer for *invasive_plants*\n",
    "Because SelectLayerByLocation tool only works with feature layers, so you need to create a feature layer for the buffer intersect first.\n"
   ]
  },
  {
   "cell_type": "code",
   "execution_count": 43,
   "metadata": {
    "collapsed": false
   },
   "outputs": [
    {
     "data": {
      "text/plain": [
       "<Result 'plant_lyr'>"
      ]
     },
     "execution_count": 43,
     "metadata": {},
     "output_type": "execute_result"
    }
   ],
   "source": [
    "arcpy.MakeFeatureLayer_management(\"invasive_plants\", \"plant_lyr\")"
   ]
  },
  {
   "cell_type": "markdown",
   "metadata": {},
   "source": [
    "#### 5. Select invasive plants in the buffer intersection"
   ]
  },
  {
   "cell_type": "code",
   "execution_count": null,
   "metadata": {
    "collapsed": true
   },
   "outputs": [],
   "source": [
    "arcpy.MakeFeatureLayer_management(\"invasive_plants\", \"plant_lyr\")\n",
    "arcpy.SelectLayerByLocation_management (\"plant_lyr\", \"WITHIN\", \"bufferIntersect\")\n",
    "# Get total number of invasive plants within the buffer intersection\n",
    "matchcount = int(arcpy.GetCount_management('plant_lyr')[0])\n",
    "print('The number of selected invasive plants are ' + str(matchcount)) # print it out\n"
   ]
  },
  {
   "cell_type": "markdown",
   "metadata": {},
   "source": [
    "#### The above workflow can also be built in ModelBuilder (you learned in last class)\n",
    "<img <img  align = 'left' src=\"../labs/lab2_data/misc/workflow.png \"height=\"180\">"
   ]
  },
  {
   "cell_type": "markdown",
   "metadata": {},
   "source": [
    "# Lab Exercises\n",
    "Next, please complete the 3 exercises in this lab<br>\n",
    "**[Exercise 1](../labs/lab1_data/misc/exercise1.pdf)** <br>\n",
    "**[Exercise 2](../labs/lab1_data/misc/exercise2.pdf)** <br>\n",
    "**[Exercise 3](../labs/lab1_data/misc/exercise3.pdf)** <br>\n",
    "and complete the assignment.<br>\n",
    "**[Lab assignment](../labs/lab1_data/misc/lab1_assignment_b.docx)**<br>\n",
    "This assignment will be combined with previous assignment into Lab 1 when grading."
   ]
  }
 ],
 "metadata": {
  "anaconda-cloud": {},
  "kernelspec": {
   "display_name": "Python [default]",
   "language": "python",
   "name": "python2"
  },
  "language_info": {
   "codemirror_mode": {
    "name": "ipython",
    "version": 2
   },
   "file_extension": ".py",
   "mimetype": "text/x-python",
   "name": "python",
   "nbconvert_exporter": "python",
   "pygments_lexer": "ipython2",
   "version": "2.7.12"
  },
  "nbpresent": {
   "slides": {
    "27c9d801-21ab-439f-a7f4-d2106212de5f": {
     "id": "27c9d801-21ab-439f-a7f4-d2106212de5f",
     "prev": "bf8e0229-2934-4bdd-9ee9-fa1280734824",
     "regions": {
      "8f3b9c6c-1da2-43f8-87fd-1f979ee1f671": {
       "attrs": {
        "height": 1,
        "width": 1,
        "x": 0,
        "y": 0
       },
       "id": "8f3b9c6c-1da2-43f8-87fd-1f979ee1f671"
      },
      "ce8d5927-e5ba-490b-a442-d99b060f0f59": {
       "attrs": {
        "height": 0.8,
        "width": 0.8,
        "x": 0.1,
        "y": 0.1
       },
       "content": {
        "cell": "478eb0d5-fcd7-42d5-ad76-35f1cac7b934",
        "part": "source"
       },
       "id": "ce8d5927-e5ba-490b-a442-d99b060f0f59"
      }
     }
    },
    "57badf10-82f8-40ca-a207-b64e5db33442": {
     "id": "57badf10-82f8-40ca-a207-b64e5db33442",
     "prev": "dab9de36-1c19-46c2-9b22-b7d7bc7a1a83",
     "regions": {
      "969c5067-eb97-4079-8951-19bd809306fc": {
       "attrs": {
        "height": 0.8,
        "width": 0.8,
        "x": 0.1,
        "y": 0.1
       },
       "id": "969c5067-eb97-4079-8951-19bd809306fc"
      },
      "c1a0ced7-033c-4158-9fc8-18178108e6f0": {
       "attrs": {
        "height": 1,
        "width": 1,
        "x": 0,
        "y": 0
       },
       "content": {
        "cell": "4ff054f1-538a-4cb6-8e03-331a3d4f1be1",
        "part": "source"
       },
       "id": "c1a0ced7-033c-4158-9fc8-18178108e6f0"
      }
     }
    },
    "5e0ca754-c197-48db-a8d6-0076bb1dc1f4": {
     "id": "5e0ca754-c197-48db-a8d6-0076bb1dc1f4",
     "prev": "27c9d801-21ab-439f-a7f4-d2106212de5f",
     "regions": {
      "17b1b723-3d2b-4509-a208-093977a97ba9": {
       "attrs": {
        "height": 1,
        "width": 1,
        "x": 0,
        "y": 0
       },
       "id": "17b1b723-3d2b-4509-a208-093977a97ba9"
      },
      "4a733f27-a36f-4483-83b0-550442d18c2d": {
       "attrs": {
        "height": 0.8,
        "width": 0.8,
        "x": 0.1,
        "y": 0.1
       },
       "content": {
        "cell": "ccd91f94-7462-4855-b41e-4e4d92c51869",
        "part": "source"
       },
       "id": "4a733f27-a36f-4483-83b0-550442d18c2d"
      }
     }
    },
    "bf8e0229-2934-4bdd-9ee9-fa1280734824": {
     "id": "bf8e0229-2934-4bdd-9ee9-fa1280734824",
     "prev": "57badf10-82f8-40ca-a207-b64e5db33442",
     "regions": {
      "d8c368ee-a46b-4918-b2c6-b4e5304562e7": {
       "attrs": {
        "height": 1,
        "width": 1,
        "x": 0,
        "y": 0
       },
       "id": "d8c368ee-a46b-4918-b2c6-b4e5304562e7"
      },
      "f5575e59-551b-4c70-a444-c6010da50e4a": {
       "attrs": {
        "height": 0.8,
        "width": 0.8,
        "x": 0.1,
        "y": 0.1
       },
       "content": {
        "cell": "ccd91f94-7462-4855-b41e-4e4d92c51869",
        "part": "source"
       },
       "id": "f5575e59-551b-4c70-a444-c6010da50e4a"
      }
     }
    },
    "dab9de36-1c19-46c2-9b22-b7d7bc7a1a83": {
     "id": "dab9de36-1c19-46c2-9b22-b7d7bc7a1a83",
     "prev": null,
     "regions": {
      "3d56e376-6c90-4952-ae5f-f74e64193b43": {
       "attrs": {
        "height": 1,
        "width": 1,
        "x": 0,
        "y": 0
       },
       "id": "3d56e376-6c90-4952-ae5f-f74e64193b43"
      },
      "f93628ef-1249-456f-87d0-d4bfa9611aa8": {
       "attrs": {
        "height": 0.8,
        "width": 0.8,
        "x": 0.1,
        "y": 0.1
       },
       "content": {
        "cell": "c6bfb25d-e7a8-4c64-a4b0-2addfae63bd0",
        "part": "whole"
       },
       "id": "f93628ef-1249-456f-87d0-d4bfa9611aa8"
      }
     }
    }
   },
   "themes": {
    "default": "461fc31e-ba83-47f0-9143-e2699b25e0a4",
    "theme": {
     "1188f6ec-cb4e-4ae7-9ded-df5dea1b42c7": {
      "backgrounds": {
       "backgroundColor": {
        "background-color": "backgroundColor",
        "id": "backgroundColor"
       }
      },
      "id": "1188f6ec-cb4e-4ae7-9ded-df5dea1b42c7",
      "palette": {
       "backgroundColor": {
        "id": "backgroundColor",
        "rgb": [
         247,
         251,
         252
        ]
       },
       "headingColor": {
        "id": "headingColor",
        "rgb": [
         51,
         51,
         51
        ]
       },
       "linkColor": {
        "id": "linkColor",
        "rgb": [
         59,
         117,
         158
        ]
       },
       "mainColor": {
        "id": "mainColor",
        "rgb": [
         51,
         51,
         51
        ]
       }
      },
      "rules": {
       "a": {
        "color": "linkColor"
       },
       "h1": {
        "color": "headingColor",
        "font-family": "Quicksand",
        "font-size": 7
       },
       "h2": {
        "color": "headingColor",
        "font-family": "Quicksand",
        "font-size": 5
       },
       "h3": {
        "color": "headingColor",
        "font-family": "Quicksand",
        "font-size": 3.75
       },
       "h4": {
        "color": "headingColor",
        "font-family": "Quicksand",
        "font-size": 3
       },
       "h5": {
        "color": "headingColor",
        "font-family": "Quicksand"
       },
       "h6": {
        "color": "headingColor",
        "font-family": "Quicksand"
       },
       "h7": {
        "color": "headingColor",
        "font-family": "Quicksand"
       },
       "li": {
        "color": "mainColor",
        "font-family": "Open Sans",
        "font-size": 5
       },
       "p": {
        "color": "mainColor",
        "font-family": "Open Sans",
        "font-size": 5
       }
      },
      "text-base": {
       "color": "mainColor",
       "font-family": "Open Sans",
       "font-size": 5
      }
     },
     "28141bd1-6799-489b-b650-2f5cb0c41640": {
      "backgrounds": {
       "backgroundColor": {
        "background-color": "backgroundColor",
        "id": "backgroundColor"
       }
      },
      "id": "28141bd1-6799-489b-b650-2f5cb0c41640",
      "palette": {
       "backgroundColor": {
        "id": "backgroundColor",
        "rgb": [
         247,
         243,
         222
        ]
       },
       "headingColor": {
        "id": "headingColor",
        "rgb": [
         51,
         51,
         51
        ]
       },
       "linkColor": {
        "id": "linkColor",
        "rgb": [
         139,
         116,
         61
        ]
       },
       "mainColor": {
        "id": "mainColor",
        "rgb": [
         51,
         51,
         51
        ]
       }
      },
      "rules": {
       "a": {
        "color": "linkColor"
       },
       "h1": {
        "color": "headingColor",
        "font-family": "Oswald",
        "font-size": 7
       },
       "h2": {
        "color": "headingColor",
        "font-family": "Oswald",
        "font-size": 5
       },
       "h3": {
        "color": "headingColor",
        "font-family": "Oswald",
        "font-size": 3.75
       },
       "h4": {
        "color": "headingColor",
        "font-family": "Oswald",
        "font-size": 3
       },
       "h5": {
        "color": "headingColor",
        "font-family": "Oswald"
       },
       "h6": {
        "color": "headingColor",
        "font-family": "Oswald"
       },
       "h7": {
        "color": "headingColor",
        "font-family": "Oswald"
       },
       "li": {
        "color": "mainColor",
        "font-family": "Lato",
        "font-size": 5
       },
       "p": {
        "color": "mainColor",
        "font-family": "Lato",
        "font-size": 5
       }
      },
      "text-base": {
       "color": "mainColor",
       "font-family": "Lato",
       "font-size": 5
      }
     },
     "461fc31e-ba83-47f0-9143-e2699b25e0a4": {
      "backgrounds": {
       "backgroundColor": {
        "background-color": "backgroundColor",
        "id": "backgroundColor"
       }
      },
      "id": "461fc31e-ba83-47f0-9143-e2699b25e0a4",
      "palette": {
       "backgroundColor": {
        "id": "backgroundColor",
        "rgb": [
         17,
         17,
         17
        ]
       },
       "headingColor": {
        "id": "headingColor",
        "rgb": [
         238,
         238,
         238
        ]
       },
       "linkColor": {
        "id": "linkColor",
        "rgb": [
         231,
         173,
         82
        ]
       },
       "mainColor": {
        "id": "mainColor",
        "rgb": [
         238,
         238,
         238
        ]
       }
      },
      "rules": {
       "a": {
        "color": "linkColor"
       },
       "h1": {
        "color": "headingColor",
        "font-family": "Montserrat",
        "font-size": 7
       },
       "h2": {
        "color": "headingColor",
        "font-family": "Montserrat",
        "font-size": 5
       },
       "h3": {
        "color": "headingColor",
        "font-family": "Montserrat",
        "font-size": 3.75
       },
       "h4": {
        "color": "headingColor",
        "font-family": "Montserrat",
        "font-size": 3
       },
       "h5": {
        "color": "headingColor",
        "font-family": "Montserrat"
       },
       "h6": {
        "color": "headingColor",
        "font-family": "Montserrat"
       },
       "h7": {
        "color": "headingColor",
        "font-family": "Montserrat"
       },
       "li": {
        "color": "mainColor",
        "font-family": "Open Sans",
        "font-size": 4
       },
       "p": {
        "color": "mainColor",
        "font-family": "Open Sans",
        "font-size": 4
       }
      },
      "text-base": {
       "color": "mainColor",
       "font-family": "Open Sans",
       "font-size": 4
      }
     },
     "c70414c1-8cca-4bdd-992c-d3b3298311a2": {
      "backgrounds": {
       "backgroundColor": {
        "background-color": "backgroundColor",
        "id": "backgroundColor"
       }
      },
      "id": "c70414c1-8cca-4bdd-992c-d3b3298311a2",
      "palette": {
       "backgroundColor": {
        "id": "backgroundColor",
        "rgb": [
         34,
         34,
         34
        ]
       },
       "headingColor": {
        "id": "headingColor",
        "rgb": [
         238,
         238,
         238
        ]
       },
       "linkColor": {
        "id": "linkColor",
        "rgb": [
         170,
         34,
         51
        ]
       },
       "mainColor": {
        "id": "mainColor",
        "rgb": [
         238,
         238,
         238
        ]
       }
      },
      "rules": {
       "a": {
        "color": "linkColor"
       },
       "h1": {
        "color": "headingColor",
        "font-family": "Ubuntu",
        "font-size": 7
       },
       "h2": {
        "color": "headingColor",
        "font-family": "Ubuntu",
        "font-size": 5
       },
       "h3": {
        "color": "headingColor",
        "font-family": "Ubuntu",
        "font-size": 3.75
       },
       "h4": {
        "color": "headingColor",
        "font-family": "Ubuntu",
        "font-size": 3
       },
       "h5": {
        "color": "headingColor",
        "font-family": "Ubuntu"
       },
       "h6": {
        "color": "headingColor",
        "font-family": "Ubuntu"
       },
       "h7": {
        "color": "headingColor",
        "font-family": "Ubuntu"
       },
       "li": {
        "color": "mainColor",
        "font-family": "Ubuntu",
        "font-size": 5
       },
       "p": {
        "color": "mainColor",
        "font-family": "Ubuntu",
        "font-size": 5
       }
      },
      "text-base": {
       "color": "mainColor",
       "font-family": "Ubuntu",
       "font-size": 5
      }
     },
     "cfc03641-b8a9-4c57-9055-ad6afd80bf9e": {
      "backgrounds": {
       "dc7afa04-bf90-40b1-82a5-726e3cff5267": {
        "background-color": "31af15d2-7e15-44c5-ab5e-e04b16a89eff",
        "id": "dc7afa04-bf90-40b1-82a5-726e3cff5267"
       }
      },
      "id": "cfc03641-b8a9-4c57-9055-ad6afd80bf9e",
      "palette": {
       "19cc588f-0593-49c9-9f4b-e4d7cc113b1c": {
        "id": "19cc588f-0593-49c9-9f4b-e4d7cc113b1c",
        "rgb": [
         252,
         252,
         252
        ]
       },
       "31af15d2-7e15-44c5-ab5e-e04b16a89eff": {
        "id": "31af15d2-7e15-44c5-ab5e-e04b16a89eff",
        "rgb": [
         68,
         68,
         68
        ]
       },
       "50f92c45-a630-455b-aec3-788680ec7410": {
        "id": "50f92c45-a630-455b-aec3-788680ec7410",
        "rgb": [
         197,
         226,
         245
        ]
       },
       "c5cc3653-2ee1-402a-aba2-7caae1da4f6c": {
        "id": "c5cc3653-2ee1-402a-aba2-7caae1da4f6c",
        "rgb": [
         43,
         126,
         184
        ]
       },
       "efa7f048-9acb-414c-8b04-a26811511a21": {
        "id": "efa7f048-9acb-414c-8b04-a26811511a21",
        "rgb": [
         25.118061674008803,
         73.60176211453744,
         107.4819383259912
        ]
       }
      },
      "rules": {
       "a": {
        "color": "19cc588f-0593-49c9-9f4b-e4d7cc113b1c"
       },
       "blockquote": {
        "color": "50f92c45-a630-455b-aec3-788680ec7410",
        "font-size": 3
       },
       "code": {
        "font-family": "Anonymous Pro"
       },
       "h1": {
        "color": "19cc588f-0593-49c9-9f4b-e4d7cc113b1c",
        "font-family": "Merriweather",
        "font-size": 8
       },
       "h2": {
        "color": "19cc588f-0593-49c9-9f4b-e4d7cc113b1c",
        "font-family": "Merriweather",
        "font-size": 6
       },
       "h3": {
        "color": "50f92c45-a630-455b-aec3-788680ec7410",
        "font-family": "Lato",
        "font-size": 5.5
       },
       "h4": {
        "color": "c5cc3653-2ee1-402a-aba2-7caae1da4f6c",
        "font-family": "Lato",
        "font-size": 5
       },
       "h5": {
        "font-family": "Lato"
       },
       "h6": {
        "font-family": "Lato"
       },
       "h7": {
        "font-family": "Lato"
       },
       "li": {
        "color": "50f92c45-a630-455b-aec3-788680ec7410",
        "font-size": 3.25
       },
       "pre": {
        "font-family": "Anonymous Pro",
        "font-size": 4
       }
      },
      "text-base": {
       "color": "19cc588f-0593-49c9-9f4b-e4d7cc113b1c",
       "font-family": "Lato",
       "font-size": 4
      }
     }
    }
   }
  }
 },
 "nbformat": 4,
 "nbformat_minor": 1
}
